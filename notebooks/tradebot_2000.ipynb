{
 "cells": [
  {
   "cell_type": "code",
   "execution_count": 1,
   "metadata": {},
   "outputs": [],
   "source": [
    "from polygon import RESTClient"
   ]
  },
  {
   "cell_type": "code",
   "execution_count": 2,
   "metadata": {},
   "outputs": [],
   "source": [
    "client = RESTClient(\"Lmxh45Sd1XptLOy_KKAATu9nE2oQ_5tp\")"
   ]
  },
  {
   "cell_type": "code",
   "execution_count": 10,
   "metadata": {},
   "outputs": [
    {
     "name": "stdout",
     "output_type": "stream",
     "text": [
      "16\n"
     ]
    }
   ],
   "source": [
    "aggs = []\n",
    "for a in client.list_aggs(\n",
    "    \"AAPL\",\n",
    "    1,\n",
    "    \"hour\",\n",
    "    \"2023-10-27\",\n",
    "    \"2023-10-28\",\n",
    "    limit=50000,\n",
    "):\n",
    "    aggs.append(a)\n",
    "\n",
    "print(len(aggs))"
   ]
  },
  {
   "cell_type": "code",
   "execution_count": 11,
   "metadata": {},
   "outputs": [
    {
     "name": "stdout",
     "output_type": "stream",
     "text": [
      "Agg(open=167.4, high=167.68, low=167.19, close=167.59, volume=43494, vwap=167.3911, timestamp=1698393600000, transactions=839, otc=None)\n",
      "Agg(open=167.58, high=167.68, low=167.12, close=167.23, volume=37820, vwap=167.4651, timestamp=1698397200000, transactions=715, otc=None)\n",
      "Agg(open=168, high=168.05, low=168, close=168.02, volume=14997, vwap=168.0216, timestamp=1698447600000, transactions=379, otc=None)\n"
     ]
    }
   ],
   "source": [
    "print(aggs[0])\n",
    "print(aggs[1])\n",
    "print(aggs[-1])"
   ]
  },
  {
   "cell_type": "code",
   "execution_count": null,
   "metadata": {},
   "outputs": [],
   "source": []
  }
 ],
 "metadata": {
  "kernelspec": {
   "display_name": "py311_algotrading",
   "language": "python",
   "name": "python3"
  },
  "language_info": {
   "codemirror_mode": {
    "name": "ipython",
    "version": 3
   },
   "file_extension": ".py",
   "mimetype": "text/x-python",
   "name": "python",
   "nbconvert_exporter": "python",
   "pygments_lexer": "ipython3",
   "version": "3.11.5"
  }
 },
 "nbformat": 4,
 "nbformat_minor": 2
}
